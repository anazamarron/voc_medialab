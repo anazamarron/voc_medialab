{
 "cells": [
  {
   "cell_type": "code",
   "execution_count": 5,
   "metadata": {
    "collapsed": false
   },
   "outputs": [
    {
     "name": "stdout",
     "output_type": "stream",
     "text": [
      "Día de playa en Valencia (Valencia). Pinchando la sombrilla en Pinedo - Arbre Del Gos :)\n"
     ]
    },
    {
     "name": "stderr",
     "output_type": "stream",
     "text": [
      "/home/jesus/Documentos/workspaces/workspace-python/medusa/medusavenv/local/lib/python2.7/site-packages/requests/packages/urllib3/util/ssl_.py:90: InsecurePlatformWarning: A true SSLContext object is not available. This prevents urllib3 from configuring SSL appropriately and may cause certain SSL connections to fail. For more information, see https://urllib3.readthedocs.org/en/latest/security.html#insecureplatformwarning.\n",
      "  InsecurePlatformWarning\n"
     ]
    }
   ],
   "source": [
    "#!/usr/bin/python\n",
    "# -*- coding: UTF-8 -*-\n",
    "\n",
    "import pymongo\n",
    "from pymongo import MongoClient\n",
    "import time\n",
    "import os\n",
    "import tweepy\n",
    "import requests\n",
    "import pprint\n",
    "\n",
    "ckey = 'AudDS2qWKad8bnQhytqozVV9p'\n",
    "consumer_secret = 'nGApgLkYWN5qjVnDk1LFY307XbKk3x6LP2z8TmdMBaqvS1XLdo'\n",
    "access_token_key = '3296532819-xSeTwH2AO8SExtRQcg3p7KYPVJYY6F4wxzbbhCT'\n",
    "access_token_secret = '3XnFOBl0CBZ2uCESsKxKyoZee9eBgf1jfRvxW9nYxpeeE'\n",
    "\n",
    "\n",
    "auth = tweepy.OAuthHandler(ckey, consumer_secret)\n",
    "auth.secure = True\n",
    "auth.set_access_token(access_token_key, access_token_secret)\n",
    "\n",
    "# access the Twitter API using tweepy with OAuth\n",
    "api = tweepy.API(auth) \n",
    "\n",
    "\n",
    "client = MongoClient()\n",
    "client = MongoClient('localhost', 27017)\n",
    "\n",
    "db_croja = client.CRUZROJA\n",
    "col_playas = db_croja['playas']\n",
    "\n",
    "today = time.strftime(\"%Y-%m-%d\")\n",
    "\n",
    "# Obtengo los que tienen medusas para el día de hoy con código de costa.\n",
    "playas = col_playas.find( \n",
    "    { \n",
    "        \"id_costa\": \n",
    "         { \n",
    "            \"$exists\": True\n",
    "        },\n",
    "        \"2015-07-23\"+ \".medusas\": \"Sí\",\n",
    "        \"provincia\": {\n",
    "            \"$in\":[\n",
    "                \"Cantabria\",\n",
    "                \"Valencia\",\n",
    "                \"Castellon\",\n",
    "                \"Alicante\"\n",
    "            ]\n",
    "        }\n",
    "    }, \n",
    "    { \n",
    "        \"2015-07-23.medusas\": 1, \n",
    "        \"provincia\":1, \n",
    "        \"nombre_playa\":1,\n",
    "        \"municipio\": 1\n",
    "    } \n",
    ")\n",
    "\n",
    "for playa in playas:\n",
    "    tweet = \"Día de playa en %s (%s). Pinchando la sombrilla en %s :)\" % (\n",
    "        playa[\"municipio\"].encode(\"utf8\"), \n",
    "        playa[\"provincia\"].encode(\"utf8\"), \n",
    "        playa[\"nombre_playa\"].encode(\"utf8\")\n",
    "    )\n",
    "    print tweet\n",
    "    \n",
    "    fn = os.path.abspath('./imagenes/jelly_twitter_test.jpg')\n",
    "\n",
    "    #UpdateStatus of twitter called with the image file\n",
    "    api.update_with_media(fn, status=str(tweet))\n",
    "    break"
   ]
  },
  {
   "cell_type": "code",
   "execution_count": null,
   "metadata": {
    "collapsed": false
   },
   "outputs": [],
   "source": []
  },
  {
   "cell_type": "code",
   "execution_count": null,
   "metadata": {
    "collapsed": false
   },
   "outputs": [],
   "source": []
  }
 ],
 "metadata": {
  "kernelspec": {
   "display_name": "Python 2",
   "language": "python",
   "name": "python2"
  },
  "language_info": {
   "codemirror_mode": {
    "name": "ipython",
    "version": 2
   },
   "file_extension": ".py",
   "mimetype": "text/x-python",
   "name": "python",
   "nbconvert_exporter": "python",
   "pygments_lexer": "ipython2",
   "version": "2.7.6"
  }
 },
 "nbformat": 4,
 "nbformat_minor": 0
}
