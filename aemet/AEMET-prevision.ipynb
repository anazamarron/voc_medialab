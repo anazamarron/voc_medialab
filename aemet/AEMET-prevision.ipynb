{
 "cells": [
  {
   "cell_type": "markdown",
   "metadata": {},
   "source": [
    "# Este notebook obtendrá los datos del tiempo y los guardará en Mongo"
   ]
  },
  {
   "cell_type": "code",
   "execution_count": 1,
   "metadata": {
    "collapsed": false
   },
   "outputs": [],
   "source": [
    "from lxml import html\n",
    "import requests\n",
    "import json\n",
    "import pandas as pd\n",
    "import pprint\n",
    "import time"
   ]
  },
  {
   "cell_type": "code",
   "execution_count": 2,
   "metadata": {
    "collapsed": false
   },
   "outputs": [],
   "source": [
    "import pymongo\n",
    "from pymongo import MongoClient"
   ]
  },
  {
   "cell_type": "code",
   "execution_count": 3,
   "metadata": {
    "collapsed": false
   },
   "outputs": [],
   "source": [
    "client = MongoClient()\n",
    "client = MongoClient('localhost', 27017)"
   ]
  },
  {
   "cell_type": "code",
   "execution_count": 4,
   "metadata": {
    "collapsed": false
   },
   "outputs": [],
   "source": [
    "db = client.AEMET"
   ]
  },
  {
   "cell_type": "code",
   "execution_count": 5,
   "metadata": {
    "collapsed": false
   },
   "outputs": [],
   "source": [
    "collection = db['localidades']"
   ]
  },
  {
   "cell_type": "code",
   "execution_count": 6,
   "metadata": {
    "collapsed": false
   },
   "outputs": [],
   "source": [
    "resultado  = db.localidades.find({\"nombe_localidad\":\"Guadiana del Caudillo\"})\n",
    "pp = pprint.PrettyPrinter(indent=1)\n",
    "#3for doc in resultado:\n",
    "    #pp.pprint(doc)\n",
    "    \n",
    "    "
   ]
  },
  {
   "cell_type": "code",
   "execution_count": 7,
   "metadata": {
    "collapsed": false
   },
   "outputs": [],
   "source": [
    "#Vamos a sacar los datos por localidades\n",
    "%timeit\n",
    "\n",
    "for doc in db.localidades.find({}):\n",
    "    \n",
    "    url_prevision = \"http://www.aemet.es/xml/municipios/localidad_\" + doc['_id'] + \".xml\"\n",
    "    \n",
    "    try:\n",
    "        page_prevision = requests.get(url_prevision)\n",
    "        tree_prevision = html.fromstring=\"' + fecha + '\"]/prob_precipitacion/@periodo(page_prevision.content)\n",
    "    except:\n",
    "            print url_prevision\n",
    "\n",
    "    for fecha in tree_prevision.xpath('//prediccion/dia/@fecha'):\n",
    "    \n",
    "        texto = '{\"' + fecha + '\": {'\n",
    "    \n",
    "        #Probabilidad de precipitacion\n",
    "        hay = False\n",
    "        texto += '\"prob_precipitacion\" : {' \n",
    "        for periodo in tree_prevision.xpath('//prediccion/dia[@fecha=\"' + fecha + '\"]/prob_precipitacion/@periodo'):\n",
    "            prob_precipitacion =  tree_prevision.xpath('//prediccion/dia[@fecha=\"' + fecha + '\"]/prob_precipitacion[@periodo=\"'+periodo+'\"]/text()')\n",
    "            if prob_precipitacion:\n",
    "                hay = True\n",
    "                texto += ' \"' + periodo + '\": ' + prob_precipitacion[0] + \", \"\n",
    "        if hay:\n",
    "            texto = texto[:-2]\n",
    "        texto += \"}\"\n",
    "            \n",
    "        #Cota de nieve\n",
    "        hay = False\n",
    "        texto += ', \"cota_nieve\" : {' \n",
    "        for periodo in tree_prevision.xpath('//prediccion/dia[@fecha=\"' + fecha + '\"]/cota_nieve/@periodo'):\n",
    "            cota_nieve =  tree_prevision.xpath('//prediccion/dia[@fecha=\"' + fecha + '\"]/cota_nieve[@periodo=\"'+periodo+'\"]/text()')\n",
    "            \n",
    "            if cota_nieve:\n",
    "                hay = True\n",
    "                texto += ', \"' + periodo + '\": ' + cota_nieve[0] + \", \"\n",
    "        if hay:\n",
    "            texto = texto[:-2]\n",
    "        texto += \"}\"\n",
    "\n",
    "        #Estado del cielo\n",
    "        hay = False\n",
    "        texto += ', \"estado_cielo\" : {' \n",
    "        for periodo in tree_prevision.xpath('//prediccion/dia[@fecha=\"' + fecha + '\"]/estado_cielo/@periodo'):\n",
    "            estado_cielo = tree_prevision.xpath('//prediccion/dia[@fecha=\"' + fecha + '\"]/estado_cielo[@periodo=\"'+periodo+'\"]/@descripcion')                \n",
    "            if estado_cielo:\n",
    "                hay = True\n",
    "                texto += '\"' + periodo + '\": \"' + estado_cielo[0] + '\", '\n",
    "        if hay:\n",
    "            texto = texto[:-2]\n",
    "        texto += \"}\"\n",
    "\n",
    "        #Direccion del viento\n",
    "        hay = False\n",
    "        texto += ', \"direccion_viento\" : {' \n",
    "        for periodo in tree_prevision.xpath('//prediccion/dia[@fecha=\"' + fecha + '\"]/viento/@periodo'):\n",
    "            direccion_viento = tree_prevision.xpath('//prediccion/dia[@fecha=\"' + fecha + '\"]/viento[@periodo=\"'+periodo+'\"]/direccion/text()')\n",
    "            if direccion_viento:\n",
    "                hay=True\n",
    "                texto += '\"' + periodo + '\": \"' + direccion_viento[0] + '\", '\n",
    "        if hay:\n",
    "            texto = texto[:-2]\n",
    "        texto += \"}\"\n",
    "\n",
    "            \n",
    "        #Velocidad del viento\n",
    "        hay = False\n",
    "        texto += ', \"velocidad_viento\" : {' \n",
    "        for periodo in tree_prevision.xpath('//prediccion/dia[@fecha=\"' + fecha + '\"]/viento/@periodo'):\n",
    "            velocidad_viento = tree_prevision.xpath('//prediccion/dia[@fecha=\"' + fecha + '\"]/viento[@periodo=\"'+periodo+'\"]/velocidad/text()')\n",
    "            if velocidad_viento:\n",
    "                hay = True\n",
    "                texto += '\"' + periodo + '\": ' + velocidad_viento[0] + \", \"\n",
    "        if hay:\n",
    "            texto = texto[:-2]\n",
    "        texto += \"}\"            \n",
    "           \n",
    "            \n",
    "        #Racha máxima\n",
    "        hay = False\n",
    "        texto += ', \"racha_max\" : {' \n",
    "        for periodo in tree_prevision.xpath('//prediccion/dia[@fecha=\"' + fecha + '\"]/racha_max/@periodo'):\n",
    "            racha_max =  tree_prevision.xpath('//prediccion/dia[@fecha=\"' + fecha + '\"]/racha_max[@periodo=\"'+periodo+'\"]/text()')\n",
    "            if racha_max:\n",
    "                hay = True\n",
    "                texto += '\"' + periodo + '\": ' + racha_max[0] + \", \"\n",
    "        if hay:\n",
    "            texto = texto[:-2]\n",
    "        texto += \"}\"            \n",
    "\n",
    "        #Temperatura\n",
    "        \n",
    "        texto += ', \"temperatura\" : {' \n",
    "        maxima = tree_prevision.xpath('//prediccion/dia[@fecha=\"' + fecha + '\"]/temperatura/maxima/text()') \n",
    "        texto += '\"maxima\":'+ maxima[0]+ \", \"\n",
    "        minima = tree_prevision.xpath('//prediccion/dia[@fecha=\"' + fecha + '\"]/temperatura/minima/text()')\n",
    "        texto += '\"minima\":'+ minima[0] + \", \"\n",
    "        for hora in tree_prevision.xpath('//prediccion/dia[@fecha=\"' + fecha + '\"]/temperatura/dato/@hora'):\n",
    "            por_hora = tree_prevision.xpath('//prediccion/dia[@fecha=\"' + fecha + '\"]/temperatura/dato[@hora=\"'+hora+'\"]/text()')\n",
    "            if por_hora:\n",
    "                texto += '\"' + hora + '\": '+ por_hora[0]+ \", \"\n",
    "        texto = texto[:-2]\n",
    "        texto += \"}\"                    \n",
    "\n",
    "        #Sensacion Termica\n",
    "        texto += ', \"sensacion_termica\" : {' \n",
    "        maxima = tree_prevision.xpath('//prediccion/dia[@fecha=\"' + fecha + '\"]/sens_termica/maxima/text()') \n",
    "        texto += '\"maxima\":'+ maxima[0]+ \", \"\n",
    "        minima = tree_prevision.xpath('//prediccion/dia[@fecha=\"' + fecha + '\"]/sens_termica/minima/text()')\n",
    "        texto += '\"minima\":'+ minima[0] + \", \"\n",
    "        for hora in tree_prevision.xpath('//prediccion/dia[@fecha=\"' + fecha + '\"]/sens_termica/dato/@hora'):\n",
    "            por_hora = tree_prevision.xpath('//prediccion/dia[@fecha=\"' + fecha + '\"]/sens_termica/dato[@hora=\"'+hora+'\"]/text()') \n",
    "            if por_hora:\n",
    "                texto += '\"' + hora + '\": '+ por_hora[0]+ \", \"\n",
    "        texto = texto[:-2]\n",
    "        texto += \"}\"                    \n",
    "\n",
    "        #Humedad relativa\n",
    "        texto += ', \"humedad_relativa\" : {' \n",
    "        maxima = tree_prevision.xpath('//prediccion/dia[@fecha=\"' + fecha + '\"]/humedad_relativa/maxima/text()') \n",
    "        texto += '\"maxima\":'+ maxima[0]+ \", \"\n",
    "        minima = tree_prevision.xpath('//prediccion/dia[@fecha=\"' + fecha + '\"]/humedad_relativa/minima/text()')\n",
    "        texto += '\"minima\":'+ minima[0] + \", \"\n",
    "        for hora in tree_prevision.xpath('//prediccion/dia[@fecha=\"' + fecha + '\"]/humedad_relativa/dato/@hora'):\n",
    "            por_hora = tree_prevision.xpath('//prediccion/dia[@fecha=\"' + fecha + '\"]/humedad_relativa/dato[@hora=\"'+hora+'\"]/text()') \n",
    "            if por_hora:\n",
    "                texto += '\"' + hora + '\": '+ por_hora[0]+ \", \"\n",
    "        texto = texto[:-2]\n",
    "        texto += \"}\"                    \n",
    "        \n",
    "        \n",
    "        #UV max            \n",
    "        uv_max =  tree_prevision.xpath('//prediccion/dia[@fecha=\"' + fecha + '\"]/uv_max/text()')\n",
    "        if uv_max:\n",
    "            texto += ', \"uv_max\" : ' +  uv_max[0] \n",
    "            \n",
    "        texto += '}}'\n",
    "\n",
    "        json_acceptable_string = texto.replace('\"', '\\\"')\n",
    "        json_acceptable_string = texto.replace(\"'\", \"\\\"\")\n",
    "        \n",
    "        d = json.loads(json_acceptable_string)\n",
    "\n",
    "        post_id = collection.update({\"_id\" : doc[\"_id\"]},{ \"$set\" : d}, upsert=True)\n",
    "\n",
    "        time.sleep(0.01)\n",
    "    "
   ]
  },
  {
   "cell_type": "code",
   "execution_count": 8,
   "metadata": {
    "collapsed": false
   },
   "outputs": [
    {
     "name": "stdout",
     "output_type": "stream",
     "text": [
      "24 ,  18\n",
      "minima ,  13\n",
      "12 ,  25\n",
      "06 ,  14\n",
      "18 ,  27\n",
      "maxima ,  28\n"
     ]
    }
   ],
   "source": [
    "resultado  = db.localidades.find({\"nombe_localidad\":\"Madrid\"})\n",
    "for doc in resultado:\n",
    "    poblacion_temperatura = doc[\"2015-06-18\"][\"temperatura\"]\n",
    "    for element in poblacion_temperatura:\n",
    "        print element , ', ' , poblacion_temperatura[element]\n",
    "    \n",
    "    "
   ]
  },
  {
   "cell_type": "code",
   "execution_count": 9,
   "metadata": {
    "collapsed": false
   },
   "outputs": [],
   "source": [
    "#db.drop_collection(\"localidades\")"
   ]
  },
  {
   "cell_type": "code",
   "execution_count": null,
   "metadata": {
    "collapsed": false
   },
   "outputs": [],
   "source": []
  }
 ],
 "metadata": {
  "kernelspec": {
   "display_name": "Python 2",
   "language": "python",
   "name": "python2"
  },
  "language_info": {
   "codemirror_mode": {
    "name": "ipython",
    "version": 2
   },
   "file_extension": ".py",
   "mimetype": "text/x-python",
   "name": "python",
   "nbconvert_exporter": "python",
   "pygments_lexer": "ipython2",
   "version": "2.7.10"
  }
 },
 "nbformat": 4,
 "nbformat_minor": 0
}
