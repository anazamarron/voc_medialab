{
 "cells": [
  {
   "cell_type": "code",
   "execution_count": 1,
   "metadata": {
    "collapsed": false
   },
   "outputs": [],
   "source": [
    "import time\n",
    "from tweepy import Stream\n",
    "from tweepy import OAuthHandler\n",
    "from tweepy.streaming import StreamListener\n",
    "import os"
   ]
  },
  {
   "cell_type": "code",
   "execution_count": 8,
   "metadata": {
    "collapsed": false
   },
   "outputs": [],
   "source": [
    "ckey = 'AudDS2qWKad8bnQhytqozVV9p'\n",
    "consumer_secret = 'nGApgLkYWN5qjVnDk1LFY307XbKk3x6LP2z8TmdMBaqvS1XLdo'\n",
    "access_token_key = '3296532819-xSeTwH2AO8SExtRQcg3p7KYPVJYY6F4wxzbbhCT'\n",
    "access_token_secret = '3XnFOBl0CBZ2uCESsKxKyoZee9eBgf1jfRvxW9nYxpeeE'\n",
    " \n",
    " \n",
    "start_time = time.time() #grabs the system time\n",
    "\n",
    "keyword_list = ['telefonica'] #track list"
   ]
  },
  {
   "cell_type": "code",
   "execution_count": 9,
   "metadata": {
    "collapsed": false
   },
   "outputs": [],
   "source": [
    "import tweepy\n",
    "import sys\n",
    "import pika\n",
    "import json\n",
    "import time\n",
    "import pprint\n",
    "pp = pprint.PrettyPrinter(indent=1)\n",
    "\n",
    "#get your own twitter credentials at dev.twitter.com\n",
    "consumer_key = ckey\n",
    "consumer_secret = consumer_secret\n",
    "access_token = access_token_key\n",
    "access_token_secret = access_token_secret\n",
    "\n",
    "auth = tweepy.OAuthHandler(consumer_key, consumer_secret)\n",
    "auth.set_access_token(access_token, access_token_secret)\n",
    "api = tweepy.API(auth)\n",
    "\n",
    "class CustomStreamListener(tweepy.StreamListener):\n",
    "    def __init__(self, api):\n",
    "        self.api = api\n",
    "        super(tweepy.StreamListener, self).__init__()\n",
    "\n",
    "        #setup rabbitMQ Connection\n",
    "        connection = pika.BlockingConnection(\n",
    "            pika.ConnectionParameters(host='localhost')\n",
    "        )\n",
    "        self.channel = connection.channel()\n",
    "\n",
    "        #set max queue size\n",
    "        args = {\"x-max-length\": 2000}\n",
    "\n",
    "        self.channel.queue_declare(queue='twitter_topic_feed', arguments=args)\n",
    "\n",
    "    def on_status(self, status):\n",
    "        print status.text\n",
    "        print 'Localización: ', status.geo\n",
    "        print 'Source: ' , status.source\n",
    "        print 'Created at:' , status.created_at\n",
    "        print \"Lang: \", status.lang\n",
    "        \n",
    "        print\n",
    "        \n",
    "        print\n",
    "\n",
    "        data = {}\n",
    "        data['text'] = status.text\n",
    "        data['created_at'] = time.mktime(status.created_at.timetuple())\n",
    "        data['geo'] = status.coordinates\n",
    "        data['source'] = status.source\n",
    " \n",
    "        \n",
    "        #queue the tweet\n",
    "        self.channel.basic_publish(exchange='',\n",
    "                                    routing_key='twitter_topic_feed',\n",
    "                                    body=json.dumps(data))\n",
    "\n",
    "    def on_error(self, status_code):\n",
    "        print 'Encountered error with status code:', status_code\n",
    "        print >> sys.stderr, 'Encountered error with status code:', status_code\n",
    "        return True  # Don't kill the stream\n",
    "\n",
    "    def on_timeout(self):\n",
    "        print >> sys.stderr, 'Timeout...'\n",
    "        return True  # Don't kill the stream\n"
   ]
  },
  {
   "cell_type": "code",
   "execution_count": null,
   "metadata": {
    "collapsed": false
   },
   "outputs": [
    {
     "name": "stdout",
     "output_type": "stream",
     "text": [
      "operator facturare (call center): preluarea telefonica a comenzilor,editarea facturilor si a comenzilor,… http://t.co/wAwTEEoT50\n",
      "Localización:  None\n",
      "Source:  dlvr.it\n",
      "Created at: 2015-07-21 08:40:37\n",
      "Lang:  ro\n",
      "\n",
      "\n",
      "Top story: Vozpópuli - Escándalo en la CNMC: un consejero ocultó cobros millona… http://t.co/j4wV7nMuH0, see more http://t.co/no8PBME5pa"
     ]
    }
   ],
   "source": [
    "sapi = tweepy.streaming.Stream(auth, CustomStreamListener(api))\n",
    "# my keyword today is chelsea as the team just had a big win\n",
    "sapi.filter(track=keyword_list) "
   ]
  },
  {
   "cell_type": "code",
   "execution_count": null,
   "metadata": {
    "collapsed": false
   },
   "outputs": [],
   "source": []
  },
  {
   "cell_type": "code",
   "execution_count": null,
   "metadata": {
    "collapsed": false
   },
   "outputs": [],
   "source": []
  }
 ],
 "metadata": {
  "kernelspec": {
   "display_name": "Python 2",
   "language": "python",
   "name": "python2"
  },
  "language_info": {
   "codemirror_mode": {
    "name": "ipython",
    "version": 2
   },
   "file_extension": ".py",
   "mimetype": "text/x-python",
   "name": "python",
   "nbconvert_exporter": "python",
   "pygments_lexer": "ipython2",
   "version": "2.7.10"
  }
 },
 "nbformat": 4,
 "nbformat_minor": 0
}
