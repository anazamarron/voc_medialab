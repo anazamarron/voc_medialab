{
 "cells": [
  {
   "cell_type": "markdown",
   "metadata": {},
   "source": [
    "#Costas"
   ]
  },
  {
   "cell_type": "code",
   "execution_count": 12,
   "metadata": {
    "collapsed": false
   },
   "outputs": [],
   "source": [
    "from lxml import html\n",
    "import requests\n",
    "import json\n",
    "import pandas as pd\n",
    "import numpy as np\n",
    "import time\n",
    "from datetime import datetime, timedelta\n",
    "import re\n"
   ]
  },
  {
   "cell_type": "code",
   "execution_count": 13,
   "metadata": {
    "collapsed": false
   },
   "outputs": [],
   "source": [
    "#Mongo\n",
    "import pymongo\n",
    "from pymongo import MongoClient\n",
    "\n",
    "client = MongoClient()\n",
    "client = MongoClient('localhost', 27017)\n",
    "db = client.AEMET"
   ]
  },
  {
   "cell_type": "code",
   "execution_count": 14,
   "metadata": {
    "collapsed": false
   },
   "outputs": [],
   "source": [
    "# Añado un dataframe con los meses para la fecha\n",
    "global meses \n",
    "df_meses = pd.DataFrame()\n",
    "df_meses[\"es\"] = [\"enero\",\"febrero\",\"marzo\",\"abril\",\"mayo\",\"junio\",\"julio\",\"agosto\"\n",
    "                ,\"septiembre\",\"octubre\",\"noviembre\",\"diciembre\"]\n",
    "df_meses[\"en\"] = [\"january\",\"february\", \"march\", \"april\",\"may\",\"june\",\"july\",\"august\"\n",
    "                ,\"september\",\"october\",\"november\", \"december\"]\n",
    "df_meses[\"num\"] = [\"01\",\"02\", \"03\", \"04\",\"05\",\"06\",\"07\",\"08\",\"09\",\"10\",\"11\", \"12\"]\n",
    "\n",
    "def traduceMes(mes,lang_origen,lang_destino):\n",
    "    for index, row in meses.iterrows():\n",
    "        if(mes.upper().find(row[lang_origen].upper())==0):\n",
    "            mes = mes.upper().replace(row[lang_origen].upper(),row[lang_destino])\n",
    "            return mes\n",
    "\n",
    "def getFechaTime(txt):\n",
    "    arrayFecha = txt.split(\" \")\n",
    "    mes =  df_meses.ix[df_meses.es==arrayFecha[1].lower()].en\n",
    "    nueva_fecha =  arrayFecha[0] + mes.values[0] + arrayFecha[2]\n",
    "    fecha =datetime.strptime(nueva_fecha,'%d%B%Y')\n",
    "    return fecha\n",
    "\n"
   ]
  },
  {
   "cell_type": "code",
   "execution_count": 15,
   "metadata": {
    "collapsed": false
   },
   "outputs": [],
   "source": [
    "url = \"http://www.aemet.es/es/eltiempo/prediccion/playas\"\n",
    "page = requests.get(url)\n",
    "tree = html.fromstring(page.text)"
   ]
  },
  {
   "cell_type": "code",
   "execution_count": 16,
   "metadata": {
    "collapsed": false
   },
   "outputs": [
    {
     "name": "stdout",
     "output_type": "stream",
     "text": [
      "591\n"
     ]
    }
   ],
   "source": [
    "dict_playas = dict()\n",
    "total = 0\n",
    "url_playa = []\n",
    "\n",
    "#Saco las provincias de la página\n",
    "provincias_name = tree.xpath('//select[@id=\"provincia_selector\"]/option/text()')\n",
    "provincias_id = tree.xpath('//select[@id=\"provincia_selector\"]/option/@value')\n",
    "\n",
    "#Creo un dataFrame con las provincias y su id para la AEMET\n",
    "#provincias = pd.DataFrame()\n",
    "for i in range (0,len(provincias_id)-1):\n",
    "    #provincias[provincias_id[i+1]] = {\"nombre\":provincias_name[i+1]}\n",
    "    url_playas = \"http://www.aemet.es/es/eltiempo/prediccion/playas?p=\"+ provincias_id[i+1]\n",
    "    page_playa = requests.get(url_playas)\n",
    "    tree_playa = html.fromstring(page_playa.text)\n",
    "    poblaciones = tree_playa.xpath('//select[@id=\"datos_selector\"]/optgroup/@label')\n",
    "    poblaciones_id = tree_playa.xpath('//select[@id=\"datos_selector\"]/optgroup/@value')\n",
    "    \n",
    "    for poblacion in poblaciones:\n",
    "        playas =  tree_playa.xpath('//select[@id=\"datos_selector\"]/optgroup[@label=\"' + poblacion + '\"]/option/text()')\n",
    "        playas_id = tree_playa.xpath('//select[@id=\"datos_selector\"]/optgroup[@label=\"' + poblacion + '\"]/option/@value')\n",
    "        for playa in playas_id:\n",
    "            provincias_id[i+1]\n",
    "            total+=1\n",
    "\n",
    "            id_playa = playa [len(playa) - 7 : len(playa)]\n",
    "            nombre_playa = playa[0:len(playa) - 8 ]\n",
    "            url = \"http://www.aemet.es/es/eltiempo/prediccion/playas/\"+playa\n",
    "            url_playa.append(url)\n",
    "            texto = '{\"_id\" :\"' + id_playa + '\"'\n",
    "            texto += ',\"nombre_playa\" : \"' + nombre_playa + '\" '\n",
    "            texto += ',\"id_largo\" : \"' + playa + '\" '\n",
    "            texto += ',\"nombre_localidad\": \"' + poblacion + '\"'\n",
    "            texto += ',\"nombre_provincia\": \"' + provincias_name[i+1] + '\"'\n",
    "            texto += ',\"id_provincia\": \"' +provincias_id[i+1] + '\"}'\n",
    "            if id_playa in dict_playas:\n",
    "                dict_playas[id_playa].append(texto)\n",
    "            else:\n",
    "                dict_playas[id_playa]= texto\n",
    "                \n",
    "print len(dict_playas)"
   ]
  },
  {
   "cell_type": "code",
   "execution_count": 17,
   "metadata": {
    "collapsed": false
   },
   "outputs": [],
   "source": [
    "collection = db['costas']\n",
    "for clave in dict_playas:\n",
    "    #Convertimos el texto a json para que mongo lo acepte\n",
    "    d = json.loads(dict_playas[clave])\n",
    "    post_id = collection.update({u\"_id\" : clave},{\"$set\" :d},upsert=True) "
   ]
  },
  {
   "cell_type": "code",
   "execution_count": 18,
   "metadata": {
    "collapsed": false
   },
   "outputs": [
    {
     "name": "stdout",
     "output_type": "stream",
     "text": [
      "{u'latitud': u'-1.98888888889', u'nombre_playa': u'la-kontxa-la-concha', u'nombre_localidad': u'Donostia/San Sebasti\\xe1n', u'2015-07-30 10:20:12': {u'307812': {u'viento_tarde': u'flojo', u'pleamar': u'4:28', u'bajamar': u'4:28', u'temperatua_agua': 22, u'cielo_tarde': u'Nuboso', u'temperatura_maxima': 20, u'viento_manana': u'flojo', u'oleaje_manana': u'd\\xe9bil', u'indice_uv': 8, u'oleaje_tarde': u'd\\xe9bil', u'sensacion_termica': u'suave', u'cielo_manana': u'Muy nuboso'}}, u'2015-07-31 10:20:12': {u'307812': {u'viento_tarde': u'flojo', u'temperatua_agua': 22, u'cielo_tarde': u'Muy nuboso con lluvia', u'temperatura_maxima': 21, u'viento_manana': u'flojo', u'oleaje_manana': u'd\\xe9bil', u'indice_uv': 7, u'oleaje_tarde': u'd\\xe9bil', u'sensacion_termica': u'suave', u'cielo_manana': u'Muy nuboso con lluvia'}}, u'id_provincia': u'20', u'nombre_provincia': u'Gipuzkoa', u'2015-07-30 00:00:00': {u'viento_tarde': u'flojo', u'temperatua_agua': 22, u'cielo_tarde': u'Muy nuboso con lluvia', u'temperatura_maxima': 21, u'viento_manana': u'flojo', u'oleaje_manana': u'd\\xe9bil', u'indice_uv': 7, u'oleaje_tarde': u'd\\xe9bil', u'sensacion_termica': u'suave', u'cielo_manana': u'Muy nuboso con lluvia'}, u'id_largo': u'la-kontxa-la-concha-2006904', u'_id': u'2006904', u'2015-07-29 00:00:00': {u'viento_tarde': u'flojo', u'pleamar': u'4:28', u'bajamar': u'4:28', u'temperatua_agua': 22, u'cielo_tarde': u'Nuboso', u'temperatura_maxima': 20, u'viento_manana': u'flojo', u'oleaje_manana': u'd\\xe9bil', u'indice_uv': 8, u'oleaje_tarde': u'd\\xe9bil', u'sensacion_termica': u'suave', u'cielo_manana': u'Muy nuboso'}, u'longitud': u'43.3172222222'}\n",
      "{u'latitud': u'-1.97361111111', u'nombre_playa': u'la-zurriola', u'nombre_localidad': u'Donostia/San Sebasti\\xe1n', u'2015-07-30 10:20:12': {u'472945': {u'viento_tarde': u'flojo', u'pleamar': u'4:28', u'bajamar': u'4:28', u'temperatua_agua': 22, u'cielo_tarde': u'Nuboso', u'temperatura_maxima': 20, u'viento_manana': u'flojo', u'oleaje_manana': u'd\\xe9bil', u'indice_uv': 8, u'oleaje_tarde': u'd\\xe9bil', u'sensacion_termica': u'suave', u'cielo_manana': u'Muy nuboso'}}, u'2015-07-31 10:20:12': {u'472945': {u'viento_tarde': u'flojo', u'temperatua_agua': 22, u'cielo_tarde': u'Muy nuboso con lluvia', u'temperatura_maxima': 21, u'viento_manana': u'flojo', u'oleaje_manana': u'd\\xe9bil', u'indice_uv': 7, u'oleaje_tarde': u'd\\xe9bil', u'sensacion_termica': u'suave', u'cielo_manana': u'Muy nuboso con lluvia'}}, u'id_provincia': u'20', u'nombre_provincia': u'Gipuzkoa', u'2015-07-30 00:00:00': {u'viento_tarde': u'flojo', u'temperatua_agua': 22, u'cielo_tarde': u'Muy nuboso con lluvia', u'temperatura_maxima': 21, u'viento_manana': u'flojo', u'oleaje_manana': u'd\\xe9bil', u'indice_uv': 7, u'oleaje_tarde': u'd\\xe9bil', u'sensacion_termica': u'suave', u'cielo_manana': u'Muy nuboso con lluvia'}, u'id_largo': u'la-zurriola-2006905', u'_id': u'2006905', u'2015-07-29 00:00:00': {u'viento_tarde': u'flojo', u'pleamar': u'4:28', u'bajamar': u'4:28', u'temperatua_agua': 22, u'cielo_tarde': u'Nuboso', u'temperatura_maxima': 20, u'viento_manana': u'flojo', u'oleaje_manana': u'd\\xe9bil', u'indice_uv': 8, u'oleaje_tarde': u'd\\xe9bil', u'sensacion_termica': u'suave', u'cielo_manana': u'Muy nuboso'}, u'longitud': u'43.3177777778'}\n",
      "{u'latitud': u'-1.99944444444', u'nombre_playa': u'ondarreta-ondarreta', u'nombre_localidad': u'Donostia/San Sebasti\\xe1n', u'2015-07-30 10:20:12': {u'639225': {u'viento_tarde': u'flojo', u'pleamar': u'4:28', u'bajamar': u'4:28', u'temperatua_agua': 22, u'cielo_tarde': u'Nuboso', u'temperatura_maxima': 20, u'viento_manana': u'flojo', u'oleaje_manana': u'd\\xe9bil', u'indice_uv': 8, u'oleaje_tarde': u'd\\xe9bil', u'sensacion_termica': u'suave', u'cielo_manana': u'Muy nuboso'}}, u'2015-07-31 10:20:12': {u'639225': {u'viento_tarde': u'flojo', u'temperatua_agua': 22, u'cielo_tarde': u'Muy nuboso con lluvia', u'temperatura_maxima': 21, u'viento_manana': u'flojo', u'oleaje_manana': u'd\\xe9bil', u'indice_uv': 7, u'oleaje_tarde': u'd\\xe9bil', u'sensacion_termica': u'suave', u'cielo_manana': u'Muy nuboso con lluvia'}}, u'id_provincia': u'20', u'nombre_provincia': u'Gipuzkoa', u'2015-07-30 00:00:00': {u'viento_tarde': u'flojo', u'temperatua_agua': 22, u'cielo_tarde': u'Muy nuboso con lluvia', u'temperatura_maxima': 21, u'viento_manana': u'flojo', u'oleaje_manana': u'd\\xe9bil', u'indice_uv': 7, u'oleaje_tarde': u'd\\xe9bil', u'sensacion_termica': u'suave', u'cielo_manana': u'Muy nuboso con lluvia'}, u'id_largo': u'ondarreta-ondarreta-2006902', u'_id': u'2006902', u'2015-07-29 00:00:00': {u'viento_tarde': u'flojo', u'pleamar': u'4:28', u'bajamar': u'4:28', u'temperatua_agua': 22, u'cielo_tarde': u'Nuboso', u'temperatura_maxima': 20, u'viento_manana': u'flojo', u'oleaje_manana': u'd\\xe9bil', u'indice_uv': 8, u'oleaje_tarde': u'd\\xe9bil', u'sensacion_termica': u'suave', u'cielo_manana': u'Muy nuboso'}, u'longitud': u'43.3180555556'}\n"
     ]
    }
   ],
   "source": [
    "#db.drop_collection(\"costas\")\n",
    "resultado  = db.costas.find({\"nombre_localidad\":\"Donostia/San Sebastián\"})\n",
    "for doc in resultado:\n",
    "    print doc"
   ]
  },
  {
   "cell_type": "code",
   "execution_count": 25,
   "metadata": {
    "collapsed": false
   },
   "outputs": [
    {
     "name": "stdout",
     "output_type": "stream",
     "text": [
      "20\n",
      "{u'latitud': u'-4.21944444444', u'nombre_playa': u'luana-cobreces', u'2015-07-31 00:00:00': {u'viento_tarde': u'moderado', u'temperatua_agua': 21, u'cielo_tarde': u'Muy nuboso con lluvia', u'temperatura_maxima': 20, u'viento_manana': u'flojo', u'oleaje_manana': u'moderado', u'indice_uv': 7, u'oleaje_tarde': u'moderado', u'sensacion_termica': u'suave', u'cielo_manana': u'Muy nuboso con lluvia'}, u'nombre_localidad': u'Alfoz de Lloredo', u'2015-07-30 10:19:59': {u'558717': {u'viento_tarde': u'flojo', u'pleamar': u'4:20', u'bajamar': u'4:20', u'temperatua_agua': 21, u'cielo_tarde': u'Nuboso', u'temperatura_maxima': 20, u'viento_manana': u'flojo', u'oleaje_manana': u'moderado', u'indice_uv': 8, u'oleaje_tarde': u'moderado', u'sensacion_termica': u'suave', u'cielo_manana': u'Muy nuboso'}}, u'id_provincia': u'39', u'nombre_provincia': u'Cantabria', u'2015-07-30 00:00:00': {u'viento_tarde': u'flojo', u'pleamar': u'4:20', u'bajamar': u'4:20', u'temperatua_agua': 21, u'cielo_tarde': u'Nuboso', u'temperatura_maxima': 20, u'viento_manana': u'flojo', u'oleaje_manana': u'moderado', u'indice_uv': 8, u'oleaje_tarde': u'moderado', u'sensacion_termica': u'suave', u'cielo_manana': u'Muy nuboso'}, u'id_largo': u'luana-cobreces-3900101', u'_id': u'3900101', u'2015-07-29 00:00:00': {u'viento_tarde': u'flojo', u'pleamar': u'4:20', u'bajamar': u'4:20', u'temperatua_agua': 21, u'cielo_tarde': u'Nuboso', u'temperatura_maxima': 19, u'viento_manana': u'flojo', u'oleaje_manana': u'moderado', u'indice_uv': 7, u'oleaje_tarde': u'moderado', u'sensacion_termica': u'fresco', u'cielo_manana': u'Muy nuboso'}, u'2015-07-31 10:19:59': {u'558717': {u'viento_tarde': u'moderado', u'temperatua_agua': 21, u'cielo_tarde': u'Muy nuboso con lluvia', u'temperatura_maxima': 20, u'viento_manana': u'flojo', u'oleaje_manana': u'moderado', u'indice_uv': 7, u'oleaje_tarde': u'moderado', u'sensacion_termica': u'suave', u'cielo_manana': u'Muy nuboso con lluvia'}}, u'longitud': u'43.3955555556'}\n"
     ]
    }
   ],
   "source": [
    "resultado = db.costas.find({\"nombre_provincia\": {\"$in\": [\"Cantabria\"]}}\n",
    "                           )\n",
    "print resultado.count()\n",
    "for doc in resultado:\n",
    "    print doc\n",
    "    break"
   ]
  },
  {
   "cell_type": "code",
   "execution_count": 20,
   "metadata": {
    "collapsed": false
   },
   "outputs": [
    {
     "name": "stdout",
     "output_type": "stream",
     "text": [
      "-0.728333333333\n",
      "37.9033333333\n"
     ]
    }
   ],
   "source": [
    "#Funciones para convertir las coordenadas\n",
    "def ConvertDMSToDD(grado, minuto, segundo, direccion):\n",
    "    dd = float(grado) + float(minuto)/60 + float(segundo)/(60*60)\n",
    "    if (direccion == \"S\" or direccion == \"O\"):\n",
    "        dd = dd * -1\n",
    "        # Don't do anything for N or E\n",
    "    return dd\n",
    "\n",
    "\n",
    "def ParseDMS(coordenada):\n",
    "    coordenada = coordenada.strip()\n",
    "    parts = coordenada.split(\" \")\n",
    "    grado = parts[0].replace(\"°\",\"_\")\n",
    "    grado = grado[0:len(grado)-1]\n",
    "    minuto = parts[1][0:len(parts[1])-1]\n",
    "    segundo = parts [2][0:len(parts[2])-2]\n",
    "    direccion = parts[3]\n",
    "    punto = ConvertDMSToDD(grado, minuto, segundo, direccion)\n",
    "    return punto\n",
    "\n",
    "\n",
    "print ParseDMS(\"0° 43' 42'' O\")\n",
    "print ParseDMS(\"37° 54' 12'' N\")"
   ]
  },
  {
   "cell_type": "code",
   "execution_count": 23,
   "metadata": {
    "collapsed": false
   },
   "outputs": [
    {
     "name": "stdout",
     "output_type": "stream",
     "text": [
      "PLAYAS:\n",
      "________________________________________________________\n",
      "\n",
      "0  errores\n"
     ]
    }
   ],
   "source": [
    "#Empezamos a hacer scrapping de cada una de las playas\n",
    "playas = dict()\n",
    "i = 0\n",
    "\n",
    "print \"PLAYAS:\"\n",
    "print \"________________________________________________________\"\n",
    "print \"\"\n",
    "for url in url_playa:\n",
    "   \n",
    "    #url = 'http://www.aemet.es/es/eltiempo/prediccion/playas/xeraco-4614301'\n",
    "    try:\n",
    "        id_playa = url[len(url) - 7:len(url) ]\n",
    "\n",
    "        texto = '{\"_id\" :\"' + id_playa + '\"'\n",
    "        page_playa = requests.get(url)\n",
    "        tree_playa = html.fromstring(page_playa.text)\n",
    "        \n",
    "        div_cabecera = tree_playa.xpath('//*[@class=\"notas_tabla\"]/text()')\n",
    "        \n",
    "        poblacion = div_cabecera[3].strip()    \n",
    "        fecha_completa = div_cabecera[-1]\n",
    "        fecha = fecha_completa.split(\",\")\n",
    "        fecha_convertida = getFechaTime(fecha[1].strip())\n",
    "        today = datetime.strptime(datetime.today().strftime('%Y-%m-%d'),'%Y-%m-%d')\n",
    "        if fecha_convertida < today:\n",
    "            fecha_convertida = today\n",
    "        #playa =  tree_playa.xpath('//h3[@class=\"titulo_fondo_azul\"]/text()')\n",
    "   \n",
    "        coordenadas = tree_playa.xpath('//span[@class=\"geo\"]/abbr/text()')\n",
    "        \n",
    "\n",
    "        lati = coordenadas[0].strip().encode('UTF_8')\n",
    "        longi = coordenadas[1].strip().encode('UTF_8')\n",
    "\n",
    "\n",
    "        texto += ' , \"longitud\": \"' + str(ParseDMS(lati)) + '\" '\n",
    "        texto += ' , \"latitud\": \"' + str(ParseDMS(longi)) + '\" '\n",
    "        \n",
    "        #índice uv\n",
    "        indice_uv_maximo = tree_playa.xpath('//*[starts-with(@class, \"raduv_pred\")]/text()')\n",
    "        #cielo\n",
    "        cielo = tree_playa.xpath('//table[@class=\"tabla_datos\"][1]/tbody/tr[1]/td/img/@title')\n",
    "        #Viento\n",
    "        viento = tree_playa.xpath('//table[@class=\"tabla_datos\"][1]/tbody/tr[2]/td/text()')\n",
    "        #Oleaje\n",
    "        oleaje = tree_playa.xpath('//table[@class=\"tabla_datos\"][1]/tbody/tr[3]/td/text()')    \n",
    "        #temperatura máxima\n",
    "        temperatura_max = tree_playa.xpath('//table[@class=\"tabla_datos\"][1]/tbody/tr[4]/td/div/text()')\n",
    "        #sensacion tértmica\n",
    "        sensacion_termica = tree_playa.xpath('//table[@class=\"tabla_datos\"][1]/tbody/tr[5]/td/text()')\n",
    "        #temperatura agua\n",
    "        temperatura_agua = tree_playa.xpath('//table[@class=\"tabla_datos\"][1]/tbody/tr[6]/td/text()')\n",
    "        #pleamar\n",
    "        hay_tabla2 = False\n",
    "        if tree_playa.xpath('//table[@class=\"tabla_datos\"][2]/tbody/tr[1]/td/text()'):\n",
    "            hay_tabla2 = True\n",
    "            pleamar =  tree_playa.xpath('//table[@class=\"tabla_datos\"][2]/tbody/tr[1]/td/text()')\n",
    "            #pleamar\n",
    "            bajamar =  tree_playa.xpath('//table[@class=\"tabla_datos\"][2]/tbody/tr[2]/td/text()')\n",
    "\n",
    "\n",
    "        texto += ', \"' + str(fecha_convertida) + '\": {' \n",
    "        texto += ' \"temperatura_maxima\": ' + temperatura_max[0].strip()\n",
    "        texto += ', \"sensacion_termica\": \"' + sensacion_termica[0].strip() + '\" '\n",
    "        texto += ', \"indice_uv\": ' + indice_uv_maximo[0].strip()\n",
    "        texto += ', \"temperatua_agua\": ' + temperatura_agua[0].strip()\n",
    "        texto += ', \"cielo_manana\": \"' + cielo[0].strip() + '\" '\n",
    "        texto += ', \"cielo_tarde\": \"' + cielo[1].strip() + '\" '\n",
    "        texto += ', \"viento_manana\": \"' +  viento[0].strip() + '\" '\n",
    "        texto += ', \"viento_tarde\": \"' +  viento[1].strip() + '\" '\n",
    "        texto += ', \"oleaje_manana\": \"' +  oleaje[0].strip() + '\" '\n",
    "        texto += ', \"oleaje_tarde\": \"' +  oleaje[1].strip() + '\" '\n",
    "        if hay_tabla2:\n",
    "            texto += ', \"pleamar\": \"' + pleamar[0].strip() + '\" '\n",
    "            texto += ', \"bajamar\": \"' + pleamar[0].strip() + '\" '\n",
    "        texto += '}' \n",
    "\n",
    "        fecha_mas_1 = fecha_convertida + timedelta(days=1)\n",
    "\n",
    "        texto += ', \"' + str(fecha_mas_1) + '\": {'  \n",
    "        texto += ' \"temperatura_maxima\": ' + temperatura_max[1].strip()\n",
    "        texto += ', \"sensacion_termica\": \"' + sensacion_termica[1].strip() + '\" '\n",
    "        texto += ', \"indice_uv\": ' + indice_uv_maximo[1].strip()\n",
    "        texto += ', \"temperatua_agua\": ' + temperatura_agua[1].strip()\n",
    "        texto += ', \"cielo_manana\": \"' + cielo[2].strip() + '\" '\n",
    "        texto += ', \"cielo_tarde\": \"' + cielo[3].strip() + '\" '\n",
    "        texto += ', \"viento_manana\": \"' +  viento[2].strip() + '\" '\n",
    "        texto += ', \"viento_tarde\": \"' +  viento[3].strip() + '\" '\n",
    "        texto += ', \"oleaje_manana\": \"' +  oleaje[2].strip() + '\" '\n",
    "        texto += ', \"oleaje_tarde\": \"' +  oleaje[3].strip() + '\" '\n",
    "        texto += '}' \n",
    "        texto += '}'\n",
    "\n",
    "        \n",
    "        d = json.loads(texto)\n",
    "\n",
    "        post_id = collection.update({u\"_id\" : id_playa},{\"$set\" :d},upsert=True) \n",
    "    except:\n",
    "        i+= 1\n",
    "        print \"error:\" ,poblacion , \" : \" , url \n",
    "\n",
    "print str(i) , \" errores\""
   ]
  },
  {
   "cell_type": "code",
   "execution_count": 24,
   "metadata": {
    "collapsed": false
   },
   "outputs": [
    {
     "name": "stdout",
     "output_type": "stream",
     "text": [
      "2015-07-30 00:00:00\n"
     ]
    }
   ],
   "source": [
    "today = datetime.strptime(datetime.today().strftime('%Y-%m-%d'),'%Y-%m-%d')\n",
    "print today"
   ]
  },
  {
   "cell_type": "code",
   "execution_count": null,
   "metadata": {
    "collapsed": true
   },
   "outputs": [],
   "source": []
  }
 ],
 "metadata": {
  "kernelspec": {
   "display_name": "Python 2",
   "language": "python",
   "name": "python2"
  },
  "language_info": {
   "codemirror_mode": {
    "name": "ipython",
    "version": 2
   },
   "file_extension": ".py",
   "mimetype": "text/x-python",
   "name": "python",
   "nbconvert_exporter": "python",
   "pygments_lexer": "ipython2",
   "version": "2.7.9"
  }
 },
 "nbformat": 4,
 "nbformat_minor": 0
}
