{
 "cells": [
  {
   "cell_type": "markdown",
   "metadata": {},
   "source": [
    "# Este notebook obtendrá los datos del tiempo y los guardará en Mongo"
   ]
  },
  {
   "cell_type": "code",
   "execution_count": 1,
   "metadata": {
    "collapsed": false
   },
   "outputs": [],
   "source": [
    "from lxml import html\n",
    "import requests\n",
    "import json\n",
    "import pandas as pd"
   ]
  },
  {
   "cell_type": "code",
   "execution_count": 2,
   "metadata": {
    "collapsed": false
   },
   "outputs": [],
   "source": [
    "url = \"http://www.aemet.es/es/eltiempo/prediccion/municipios\""
   ]
  },
  {
   "cell_type": "code",
   "execution_count": 3,
   "metadata": {
    "collapsed": false
   },
   "outputs": [],
   "source": [
    "page = requests.get(url)\n",
    "tree = html.fromstring(page.text)"
   ]
  },
  {
   "cell_type": "code",
   "execution_count": 4,
   "metadata": {
    "collapsed": false
   },
   "outputs": [
    {
     "name": "stdout",
     "output_type": "stream",
     "text": [
      "          provincia                    comunidad    latitud  longitud  \\\n",
      "municipio                                                               \n",
      "Castejón     Cuenca         Castilla - La Mancha  40.382278 -2.519848   \n",
      "Castejón    Navarra  Navarra, Comunidad Foral de  42.167839 -1.690636   \n",
      "\n",
      "                                          Enlace Google Maps  \n",
      "municipio                                                     \n",
      "Castejón   http://maps.google.es/maps?z=14&ll=40.3822778,...  \n",
      "Castejón   http://maps.google.es/maps?z=14&ll=42.1678393,...  \n"
     ]
    }
   ],
   "source": [
    "#Cargamos el excel con las coordenadas de las localidades\n",
    "titulo = \"municipios-espana-coordenadas-2011.csv\"\n",
    "df = pd.read_csv(titulo,index_col=0)\n",
    "\n",
    "print df.ix[\"Castejón\"]"
   ]
  },
  {
   "cell_type": "code",
   "execution_count": 5,
   "metadata": {
    "collapsed": false
   },
   "outputs": [],
   "source": [
    "provincias = dict()\n",
    "        "
   ]
  },
  {
   "cell_type": "code",
   "execution_count": 6,
   "metadata": {
    "collapsed": false
   },
   "outputs": [],
   "source": [
    "#Saco las provincias de la página\n",
    "provincias_name = tree.xpath('//select[@id=\"provincia_selector\"]/option/text()')\n",
    "provincias_id = tree.xpath('//select[@id=\"provincia_selector\"]/option/@value')\n",
    "\n",
    "#Creo un dataFrame con las provincias y su id para la AEMET\n",
    "#provincias = pd.DataFrame()\n",
    "for i in range (0,len(provincias_id)-1):\n",
    "    provincias[provincias_id[i+1]] = {\"nombre\":provincias_name[i+1]}\n"
   ]
  },
  {
   "cell_type": "code",
   "execution_count": 7,
   "metadata": {
    "collapsed": false
   },
   "outputs": [
    {
     "name": "stdout",
     "output_type": "stream",
     "text": [
      "          provincia        comunidad    latitud  longitud  \\\n",
      "municipio                                                   \n",
      "Fonfría      Teruel           Aragón  40.995934 -1.084790   \n",
      "Fonfría      Zamora  Castilla y León  41.636235 -6.137211   \n",
      "\n",
      "                                          Enlace Google Maps  \n",
      "municipio                                                     \n",
      "Fonfría    http://maps.google.es/maps?z=14&ll=40.9959344,...  \n",
      "Fonfría    http://maps.google.es/maps?z=14&ll=41.636235,-...  \n"
     ]
    }
   ],
   "source": [
    "print df.ix[\"Fonfría\"]"
   ]
  },
  {
   "cell_type": "code",
   "execution_count": 8,
   "metadata": {
    "collapsed": false
   },
   "outputs": [
    {
     "name": "stdout",
     "output_type": "stream",
     "text": [
      "falla:  Cieza :  Murcia\n",
      "falla:  Sancti-Spíritus :  Salamanca\n",
      "falla:  Beranuy :  Huesca\n",
      "falla:  Molar, El :  Tarragona\n",
      "falla:  Fonfría :  Zamora\n",
      "falla:  Villaescusa :  Zamora\n",
      "falla:  Rebollar :  Soria\n",
      "falla:  Moreda de Álava/Moreda Araba :  Araba/Álava\n",
      "falla:  Campillo, El :  Huelva\n",
      "falla:  Puig de Santa María, el :  València/Valencia\n",
      "falla:  Torrent :  València/Valencia\n",
      "falla:  Campillo, El :  Valladolid\n",
      "falla:  Villanueva de los Infantes :  Valladolid\n",
      "falla:  Zarza, La :  Valladolid\n",
      "falla:  Arroyomolinos :  Madrid\n",
      "falla:  Molar, El :  Madrid\n",
      "falla:  Sobrado :  León\n",
      "falla:  Villanueva de los Infantes :  Ciudad Real\n",
      "falla:  Guadiana del Caudillo :  Badajoz\n",
      "falla:  Sancti-Spíritus :  Badajoz\n",
      "falla:  Zarza, La :  Badajoz\n",
      "falla:  Arroyomolinos :  Cáceres\n",
      "falla:  Collado de la Vera :  Cáceres\n",
      "falla:  Rebollar :  Cáceres\n",
      "falla:  Cieza :  Cantabria\n",
      "falla:  Villaescusa :  Cantabria\n",
      "falla:  Cabanes :  Castelló/Castellón\n",
      "falla:  Serratella, la :  Castelló/Castellón\n",
      "falla:  Sada :  A Coruña\n",
      "falla:  Sobrado :  A Coruña\n",
      "falla:  Cabanes :  Girona\n",
      "falla:  Mieres :  Girona\n",
      "falla:  Torrent :  Girona\n",
      "falla:  Castejón :  Cuenca\n",
      "falla:  Moya :  Cuenca\n",
      "falla:  Valle de Altomira, el :  Cuenca\n",
      "falla:  Mieres :  Asturias\n",
      "falla:  Castejón :  Navarra\n",
      "falla:  Sada :  Navarra\n",
      "falla:  Moya :  Las Palmas\n",
      "falla:  Fonfría :  Teruel\n"
     ]
    }
   ],
   "source": [
    "#Voy a obtener un diccionario con todas las localidades de españa y la provincia a la que pertenecen\n",
    "localidades = dict()\n",
    "import datetime\n",
    "\n",
    "for key in provincias:\n",
    "    url_municipios = \"http://www.aemet.es/es/eltiempo/prediccion/municipios?p=\"+ key\n",
    "    page_municipio = requests.get(url_municipios)\n",
    "    tree_municipio = html.fromstring(page_municipio.text)\n",
    "    localidades_name = tree_municipio.xpath('//select[@id=\"localidades_selector\"]/option/text()')\n",
    "    localidades_id = tree_municipio.xpath('//select[@id=\"localidades_selector\"]/option/@value')\n",
    "    for i in range(0,len(localidades_id)-1):\n",
    "        nombre_municipio = localidades_name[i+1]\n",
    "        coordenadas = pd.DataFrame()\n",
    "        nombre_provincia = provincias[key]['nombre'].encode('utf_8')\n",
    "        #Hago un try porque hay poblaciones que no se encuentran en el excel, habrá que modificarlas a mano\n",
    "        try:                                    \n",
    "            \n",
    "            nombre_coordenadas = df.ix[nombre_municipio.encode('utf_8')]\n",
    "            if nombre_coordenadas.provincia == nombre_provincia:\n",
    "                coordenadas = df.ix[nombre_municipio.encode('utf_8')]\n",
    "        except:\n",
    "            #print df.ix[nombre_municipio]\n",
    "            print \"falla: \" , nombre_municipio , \": \", nombre_provincia\n",
    "            coordenadas[\"longitud\"]= \"\"\n",
    "            coordenadas[\"latitud\"] = \"\"\n",
    "            coordenadas[\"comunidad\"] = \"\"\n",
    "            \n",
    "    #creo el objeto json que voy a asignar al diccionario:\n",
    "\n",
    "        texto = '{ \"_id\": \"' + localidades_id[i+1][-5:] + '\" '\n",
    "        texto += ', \"nombe_localidad\" : \"'+ localidades_name[i+1] + '\" '\n",
    "        texto += ', \"id_localidad\" : \"' + localidades_id[i+1] + '\" '\n",
    "        texto += ', \"id_provincia\" : \"' +  key  + '\" '\n",
    "        texto += ', \"nombre_provincia\": \"' +   provincias[key]['nombre'] + '\" '\n",
    "        if not coordenadas.empty:\n",
    "            texto += ', \"comunidad\" : \"' +  coordenadas.comunidad.decode('utf_8') + '\" '\n",
    "       \n",
    "            texto += ', \"longitud\": \"' +  str(coordenadas.longitud) + '\"'\n",
    "       \n",
    "            texto += ', \"latitud\": \"' + str(coordenadas.latitud) + '\"'\n",
    "        texto += ', \"date\" : \"' + str(datetime.datetime.utcnow()) + '\" '\n",
    "        texto += '}'\n",
    "   \n",
    "        \n",
    "        if localidades_id[i+1][-5:] in localidades:\n",
    "            localidades[localidades_id[i+1][-5:]].append(texto)\n",
    "            \n",
    "        else: \n",
    "            localidades[localidades_id[i+1][-5:]] =texto\n",
    "\n"
   ]
  },
  {
   "cell_type": "code",
   "execution_count": 9,
   "metadata": {
    "collapsed": false
   },
   "outputs": [
    {
     "name": "stdout",
     "output_type": "stream",
     "text": [
      "{ \"_id\": \"28014\" , \"nombe_localidad\" : \"Arganda del Rey\" , \"id_localidad\" : \"arganda-del-rey-id28014\" , \"id_provincia\" : \"28\" , \"nombre_provincia\": \"Madrid\" , \"comunidad\" : \"Madrid, Comunidad de\" , \"longitud\": \"-3.4380798\", \"latitud\": \"40.3009506\", \"date\" : \"2015-07-15 10:39:52.750952\" }\n"
     ]
    }
   ],
   "source": [
    "print localidades[u'28014']"
   ]
  },
  {
   "cell_type": "code",
   "execution_count": 10,
   "metadata": {
    "collapsed": false
   },
   "outputs": [],
   "source": [
    "import pymongo\n",
    "from pymongo import MongoClient"
   ]
  },
  {
   "cell_type": "code",
   "execution_count": 16,
   "metadata": {
    "collapsed": false
   },
   "outputs": [],
   "source": [
    "client = MongoClient()\n",
    "client = MongoClient('localhost', 27017)"
   ]
  },
  {
   "cell_type": "code",
   "execution_count": 17,
   "metadata": {
    "collapsed": false
   },
   "outputs": [],
   "source": [
    "db = client.AEMET"
   ]
  },
  {
   "cell_type": "code",
   "execution_count": 18,
   "metadata": {
    "collapsed": false
   },
   "outputs": [],
   "source": [
    "collection = db['localidades']"
   ]
  },
  {
   "cell_type": "code",
   "execution_count": 24,
   "metadata": {
    "collapsed": false
   },
   "outputs": [],
   "source": [
    "%timeit\n",
    "def update_localidades_mongo(collection, localidades):\n",
    "    #Inserto las localidades en Mongo. Esto solo hace falta hacerlo una vez, a partir de ahora empiezo con las previsiones\n",
    "    for clave in localidades:\n",
    "        #Convertimos el texto a json para que mongo lo acepte\n",
    "        d = json.loads(localidades[clave])\n",
    "        del d['_id']\n",
    "        post_id = collection.update({u\"_id\" : clave},{\"$set\" :d},upsert=True) \n",
    "    \n",
    "update_localidades_mongo(collection, localidades)\n",
    "\n"
   ]
  },
  {
   "cell_type": "code",
   "execution_count": null,
   "metadata": {
    "collapsed": false
   },
   "outputs": [],
   "source": []
  }
 ],
 "metadata": {
  "kernelspec": {
   "display_name": "Python 2",
   "language": "python",
   "name": "python2"
  },
  "language_info": {
   "codemirror_mode": {
    "name": "ipython",
    "version": 2
   },
   "file_extension": ".py",
   "mimetype": "text/x-python",
   "name": "python",
   "nbconvert_exporter": "python",
   "pygments_lexer": "ipython2",
   "version": "2.7.6"
  }
 },
 "nbformat": 4,
 "nbformat_minor": 0
}
