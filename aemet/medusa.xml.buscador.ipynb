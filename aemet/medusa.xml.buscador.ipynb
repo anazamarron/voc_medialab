{
 "cells": [
  {
   "cell_type": "code",
   "execution_count": 1,
   "metadata": {
    "collapsed": false
   },
   "outputs": [],
   "source": [
    "import pymongo\n",
    "from pymongo import MongoClient\n",
    "import time\n",
    "from decimal import Decimal\n",
    "import os\n",
    "from ftplib import FTP\n",
    "import pprint\n",
    "import requests"
   ]
  },
  {
   "cell_type": "code",
   "execution_count": 2,
   "metadata": {
    "collapsed": true
   },
   "outputs": [],
   "source": [
    "client = MongoClient()\n",
    "client = MongoClient('localhost', 27017)"
   ]
  },
  {
   "cell_type": "code",
   "execution_count": 3,
   "metadata": {
    "collapsed": false
   },
   "outputs": [],
   "source": [
    "db_aemet = client.AEMET\n",
    "db_croja = client.CRUZROJA\n",
    "col_playas = db_croja['playas']\n",
    "col_localidades = db_aemet['localidades']\n",
    "col_costas = db_aemet['costas']\n",
    "today = time.strftime(\"%Y-%m-%d\")"
   ]
  },
  {
   "cell_type": "code",
   "execution_count": 5,
   "metadata": {
    "collapsed": false,
    "scrolled": true
   },
   "outputs": [
    {
     "name": "stdout",
     "output_type": "stream",
     "text": [
      "{'idplaya': 280,\n",
      " 'latitud': u'-3.78333333333',\n",
      " 'longitud': u'43.4766666667',\n",
      " 'path': '/path/to/xml',\n",
      " 'pois': u'-3.78333333333,43.4766666667'}\n"
     ]
    }
   ],
   "source": [
    "#Hago una query de comprobación (saco unicamente un registro):\n",
    "playas  = col_playas.find({\"id_costa\": { \"$exists\" : True }},\n",
    "                             {\"nombre_playa\":1,\n",
    "                              \"id_costa\":1,\n",
    "                              \"municipio\":1,\n",
    "                              \"provincia\":1,\n",
    "                               today+\".medusas\": 1})\n",
    "\n",
    "mapa = []\n",
    "\n",
    "paths = \"/path/to/xml\"\n",
    "docs_buscador = []\n",
    "\n",
    "for playa in playas:\n",
    "    doc = {}\n",
    "    if today in playa:\n",
    "        \n",
    "        id_costa = str(playa[\"id_costa\"]).zfill(7)\n",
    "        \n",
    "        #print \"El documento de playas es (cruz roja)\"\n",
    "        #print playa\n",
    "\n",
    "        #print \"El documento de costas para esa playa (aemet):\"\n",
    "        costas = col_costas.find({\"_id\": unicode(id_costa)}, \n",
    "                                     {\"nombre_playa\":1, \n",
    "                                      \"nombre_localidad\":1, \n",
    "                                      \"nombre_provincia\":1 , \n",
    "                                      \"longitud\":1,\n",
    "                                      \"latitud\":1})\n",
    "        \n",
    "        doc['idplaya'] = playa['_id']\n",
    "        #print \"############################\"\n",
    "        #pprint.pprint(playa)\n",
    "        for costa in costas:\n",
    "            doc['latitud'] = costa['latitud']\n",
    "            doc['longitud'] =  costa['longitud']\n",
    "            #pprint.pprint(costa)\n",
    "            doc['pois'] = \"%s,%s\" % (costa['latitud'], costa['longitud'])\n",
    "\n",
    "        doc['path'] = paths\n",
    "        \n",
    "        docs_buscador.append(doc)\n",
    "        \n",
    "        enlace = '<a href=\"#\">%s</a>' % str(playa['nombre_playa'].encode('latin1'))\n",
    "        mapa.append([enlace, float(Decimal(costa['latitud'])), float(Decimal(costa['longitud']))])\n",
    "\n",
    "if len(docs_buscador) > 0:\n",
    "    pprint.pprint(docs_buscador[0])\n",
    "        \n",
    "#len(docs_buscador)\n",
    "#pprint.pprint(docs_buscador)"
   ]
  },
  {
   "cell_type": "code",
   "execution_count": 6,
   "metadata": {
    "collapsed": true
   },
   "outputs": [],
   "source": [
    "url_publicacion = \"http://des.buscador.srv.vocento.in/krammer/playas/publish\""
   ]
  },
  {
   "cell_type": "code",
   "execution_count": 7,
   "metadata": {
    "collapsed": false
   },
   "outputs": [
    {
     "name": "stdout",
     "output_type": "stream",
     "text": [
      "201\n",
      "201\n",
      "201\n",
      "201\n",
      "201\n",
      "201\n",
      "201\n",
      "201\n",
      "201\n",
      "201\n",
      "201\n",
      "201\n",
      "201\n",
      "201\n",
      "201\n",
      "201\n",
      "201\n",
      "201\n",
      "201\n",
      "201\n",
      "201\n",
      "201\n",
      "201\n",
      "201\n",
      "201\n",
      "201\n",
      "201\n",
      "201\n",
      "201\n",
      "201\n",
      "201\n",
      "201\n",
      "201\n",
      "201\n",
      "201\n",
      "201\n",
      "201\n",
      "201\n",
      "201\n",
      "201\n",
      "201\n",
      "201\n",
      "201\n",
      "201\n",
      "201\n",
      "201\n",
      "201\n",
      "201\n",
      "201\n",
      "201\n",
      "201\n",
      "201\n",
      "201\n",
      "201\n",
      "201\n",
      "201\n",
      "201\n",
      "201\n",
      "201\n",
      "201\n",
      "201\n",
      "201\n",
      "201\n",
      "201\n",
      "201\n",
      "201\n",
      "201\n",
      "201\n",
      "201\n",
      "201\n",
      "201\n",
      "201\n",
      "201\n",
      "201\n",
      "201\n",
      "201\n",
      "201\n",
      "201\n",
      "201\n",
      "201\n",
      "201\n",
      "201\n",
      "201\n",
      "201\n",
      "201\n",
      "201\n",
      "201\n",
      "201\n",
      "201\n",
      "201\n",
      "201\n",
      "201\n",
      "201\n",
      "201\n",
      "201\n",
      "201\n",
      "201\n",
      "201\n",
      "201\n",
      "201\n",
      "201\n",
      "201\n",
      "201\n",
      "201\n",
      "201\n",
      "201\n",
      "201\n",
      "201\n",
      "201\n",
      "201\n",
      "201\n"
     ]
    }
   ],
   "source": [
    "xml = '''<?xml version=\"1.0\" encoding=\"utf-8\"?>\n",
    "<playa>\n",
    "    <idplaya>%s</idplaya>\n",
    "    <longitud>%s</longitud>\n",
    "    <latitud>%s</latitud>\n",
    "    <pois>%s</pois>\n",
    "    <path>%s</path>\n",
    "</playa>\n",
    "'''\n",
    "for doc in docs_buscador:\n",
    "    xmlpublish = xml %(doc['idplaya'], doc['longitud'], doc['latitud'], doc['pois'], doc['path'])\n",
    "    #print \"###########################\"\n",
    "    #print xmlpublish\n",
    "    #print \"###########################\"\n",
    "    r = requests.post(url_publicacion, data=xmlpublish)\n",
    "    print r.status_code"
   ]
  }
 ],
 "metadata": {
  "kernelspec": {
   "display_name": "Python 2",
   "language": "python",
   "name": "python2"
  },
  "language_info": {
   "codemirror_mode": {
    "name": "ipython",
    "version": 2
   },
   "file_extension": ".py",
   "mimetype": "text/x-python",
   "name": "python",
   "nbconvert_exporter": "python",
   "pygments_lexer": "ipython2",
   "version": "2.7.6"
  }
 },
 "nbformat": 4,
 "nbformat_minor": 0
}
