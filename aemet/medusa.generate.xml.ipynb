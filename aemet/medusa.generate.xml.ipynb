{
 "cells": [
  {
   "cell_type": "code",
   "execution_count": 10,
   "metadata": {
    "collapsed": false
   },
   "outputs": [],
   "source": [
    "import pymongo\n",
    "from pymongo import MongoClient\n",
    "import time\n",
    "from decimal import Decimal"
   ]
  },
  {
   "cell_type": "code",
   "execution_count": 11,
   "metadata": {
    "collapsed": true
   },
   "outputs": [],
   "source": [
    "client = MongoClient()\n",
    "client = MongoClient('localhost', 27017)"
   ]
  },
  {
   "cell_type": "code",
   "execution_count": 12,
   "metadata": {
    "collapsed": false
   },
   "outputs": [],
   "source": [
    "db_aemet = client.AEMET\n",
    "db_croja = client.CRUZROJA\n",
    "col_playas = db_croja['playas']\n",
    "col_localidades = db_aemet['localidades']\n",
    "col_costas = db_aemet['costas']\n",
    "today = time.strftime(\"%Y-%m-%d\")"
   ]
  },
  {
   "cell_type": "code",
   "execution_count": 13,
   "metadata": {
    "collapsed": false
   },
   "outputs": [
    {
     "ename": "KeyError",
     "evalue": "'2015-07-21'",
     "output_type": "error",
     "traceback": [
      "\u001b[1;31m---------------------------------------------------------------------------\u001b[0m",
      "\u001b[1;31mKeyError\u001b[0m                                  Traceback (most recent call last)",
      "\u001b[1;32m<ipython-input-13-68cae8383685>\u001b[0m in \u001b[0;36m<module>\u001b[1;34m()\u001b[0m\n\u001b[0;32m      9\u001b[0m \u001b[0mmapa\u001b[0m \u001b[1;33m=\u001b[0m \u001b[1;33m[\u001b[0m\u001b[1;33m]\u001b[0m\u001b[1;33m\u001b[0m\u001b[0m\n\u001b[0;32m     10\u001b[0m \u001b[1;32mfor\u001b[0m \u001b[0mplaya\u001b[0m \u001b[1;32min\u001b[0m \u001b[0mplayas\u001b[0m\u001b[1;33m:\u001b[0m\u001b[1;33m\u001b[0m\u001b[0m\n\u001b[1;32m---> 11\u001b[1;33m     \u001b[0mplaya\u001b[0m\u001b[1;33m[\u001b[0m\u001b[1;34m'medusas'\u001b[0m\u001b[1;33m]\u001b[0m \u001b[1;33m=\u001b[0m \u001b[0mplaya\u001b[0m\u001b[1;33m[\u001b[0m\u001b[0mtoday\u001b[0m\u001b[1;33m]\u001b[0m\u001b[1;33m[\u001b[0m\u001b[1;34m'medusas'\u001b[0m\u001b[1;33m]\u001b[0m\u001b[1;33m\u001b[0m\u001b[0m\n\u001b[0m\u001b[0;32m     12\u001b[0m     \u001b[1;32mdel\u001b[0m \u001b[0mplaya\u001b[0m\u001b[1;33m[\u001b[0m\u001b[0mtoday\u001b[0m\u001b[1;33m]\u001b[0m\u001b[1;33m\u001b[0m\u001b[0m\n\u001b[0;32m     13\u001b[0m \u001b[1;33m\u001b[0m\u001b[0m\n",
      "\u001b[1;31mKeyError\u001b[0m: '2015-07-21'"
     ]
    }
   ],
   "source": [
    "#Hago una query de comprobación (saco unicamente un registro):\n",
    "playas  = col_playas.find({\"id_costa\": { \"$exists\" : True }},\n",
    "                             {\"nombre_playa\":1,\n",
    "                              \"id_costa\":1,\n",
    "                              \"municipio\":1,\n",
    "                              \"provincia\":1,\n",
    "                               today+\".medusas\": 1})\n",
    "\n",
    "mapa = []\n",
    "for playa in playas:\n",
    "    playa['medusas'] = playa[today]['medusas']\n",
    "    del playa[today]\n",
    "    \n",
    "    id_costa = str(playa[\"id_costa\"]).zfill(7)\n",
    "    \n",
    "    #print \"El documento de playas es (cruz roja)\"\n",
    "    #print playa\n",
    "    \n",
    "    #print \"El documento de costas para esa playa (aemet):\"\n",
    "    costas = col_costas.find({\"_id\": unicode(id_costa)}, \n",
    "                                 {\"nombre_playa\":1, \n",
    "                                  \"nombre_localidad\":1, \n",
    "                                  \"nombre_provincia\":1 , \n",
    "                                  \"longitud\":1,\n",
    "                                  \"latitud\":1})\n",
    "    for costa in costas:\n",
    "        pass\n",
    "        #print costa\n",
    "    \n",
    "    enlace = '<a href=\"#\">%s</a>' % str(playa['nombre_playa'].encode('latin1'))\n",
    "    mapa.append([enlace, float(Decimal(costa['latitud'])), float(Decimal(costa['longitud']))])\n",
    "    \n",
    "\n",
    "    \n",
    "print mapa"
   ]
  }
 ],
 "metadata": {
  "kernelspec": {
   "display_name": "Python 2",
   "language": "python",
   "name": "python2"
  },
  "language_info": {
   "codemirror_mode": {
    "name": "ipython",
    "version": 2
   },
   "file_extension": ".py",
   "mimetype": "text/x-python",
   "name": "python",
   "nbconvert_exporter": "python",
   "pygments_lexer": "ipython2",
   "version": "2.7.10"
  }
 },
 "nbformat": 4,
 "nbformat_minor": 0
}
