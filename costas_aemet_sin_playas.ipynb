{
 "cells": [
  {
   "cell_type": "code",
   "execution_count": 1,
   "metadata": {
    "collapsed": true
   },
   "outputs": [],
   "source": [
    "import pymongo\n",
    "from pymongo import MongoClient\n",
    "import pprint\n",
    "import pandas as pd"
   ]
  },
  {
   "cell_type": "code",
   "execution_count": 2,
   "metadata": {
    "collapsed": true
   },
   "outputs": [],
   "source": [
    "pp = pprint.PrettyPrinter(indent=1)\n",
    "client = MongoClient()\n",
    "client = MongoClient('localhost', 27017)\n",
    "db_aemet = client.AEMET\n",
    "db_croja = client.CRUZROJA\n",
    "col_playas = db_croja['playas']\n",
    "col_localidades = db_aemet['localidades']\n",
    "col_costas = db_aemet['costas']"
   ]
  },
  {
   "cell_type": "code",
   "execution_count": 16,
   "metadata": {
    "collapsed": false,
    "scrolled": true
   },
   "outputs": [
    {
     "name": "stdout",
     "output_type": "stream",
     "text": [
      "7\n",
      "Saler - Devesa Valencia Valencia\n",
      "Perellonet - Recati Valencia Valencia\n",
      "Les Ortigues Guardamar Del Segura Alicante\n",
      "Playa Campo Guardamar Del Segura Alicante\n",
      "Piles Piles Valencia\n",
      "Moncayo Guardamar Del Segura Alicante\n",
      "Babilonia-Els Vivers Guardamar Del Segura Alicante\n",
      "591\n",
      "{u'latitud': u'-8.88388888889', u'nombre_playa': u'barrana', u'2015-07-08 00:00:00': {u'viento_tarde': u'moderado', u'pleamar': u'9:58', u'bajamar': u'9:58', u'temperatua_agua': 18, u'cielo_tarde': u'Cielo despejado', u'temperatura_maxima': 27, u'viento_manana': u'moderado', u'oleaje_manana': u'd\\xe9bil', u'indice_uv': 9, u'oleaje_tarde': u'd\\xe9bil', u'sensacion_termica': u'calor agradable', u'cielo_manana': u'Nuboso'}, u'2015-07-07 00:00:00': {u'viento_tarde': u'moderado', u'pleamar': u'9:58', u'bajamar': u'9:58', u'temperatua_agua': 18, u'cielo_tarde': u'Cielo despejado', u'temperatura_maxima': 27, u'viento_manana': u'moderado', u'oleaje_manana': u'd\\xe9bil', u'indice_uv': 9, u'oleaje_tarde': u'd\\xe9bil', u'sensacion_termica': u'calor agradable', u'cielo_manana': u'Nuboso'}, u'2015-07-06 00:00:00': {u'viento_tarde': u'moderado', u'pleamar': u'8:08', u'bajamar': u'8:08', u'temperatua_agua': 15, u'cielo_tarde': u'Cielo despejado', u'temperatura_maxima': 25, u'viento_manana': u'flojo', u'oleaje_manana': u'd\\xe9bil', u'indice_uv': 9, u'oleaje_tarde': u'd\\xe9bil', u'sensacion_termica': u'calor agradable', u'cielo_manana': u'Cielo despejado'}, u'2015-06-17 00:00:00': {u'viento_tarde': u'flojo', u'pleamar': u'6:13', u'bajamar': u'6:13', u'temperatua_agua': 17, u'cielo_tarde': u'Cielo despejado', u'temperatura_maxima': 27, u'viento_manana': u'moderado', u'oleaje_manana': u'd\\xe9bil', u'indice_uv': 9, u'oleaje_tarde': u'd\\xe9bil', u'sensacion_termica': u'calor agradable', u'cielo_manana': u'Cielo despejado'}, u'2015-07-13 00:00:00': {u'viento_tarde': u'moderado', u'pleamar': u'2:57', u'bajamar': u'2:57', u'temperatua_agua': 16, u'cielo_tarde': u'Cielo despejado', u'temperatura_maxima': 29, u'viento_manana': u'moderado', u'oleaje_manana': u'd\\xe9bil', u'indice_uv': 8, u'oleaje_tarde': u'd\\xe9bil', u'sensacion_termica': u'calor agradable', u'cielo_manana': u'Cielo despejado'}, u'nombre_localidad': u'Boiro', u'2015-07-15 00:00:00': {u'viento_tarde': u'flojo', u'temperatua_agua': 14, u'cielo_tarde': u'Cielo despejado', u'temperatura_maxima': 22, u'viento_manana': u'flojo', u'oleaje_manana': u'd\\xe9bil', u'indice_uv': 9, u'oleaje_tarde': u'd\\xe9bil', u'sensacion_termica': u'suave', u'cielo_manana': u'Nuboso'}, u'2015-06-18 00:00:00': {u'viento_tarde': u'moderado', u'temperatua_agua': 17, u'cielo_tarde': u'Cielo despejado', u'temperatura_maxima': 26, u'viento_manana': u'moderado', u'oleaje_manana': u'd\\xe9bil', u'indice_uv': 9, u'oleaje_tarde': u'd\\xe9bil', u'sensacion_termica': u'calor agradable', u'cielo_manana': u'Cielo despejado'}, u'id_provincia': u'15', u'2015-07-09 00:00:00': {u'viento_tarde': u'flojo', u'temperatua_agua': 18, u'cielo_tarde': u'Cielo despejado', u'temperatura_maxima': 34, u'viento_manana': u'moderado', u'oleaje_manana': u'd\\xe9bil', u'indice_uv': 9, u'oleaje_tarde': u'd\\xe9bil', u'sensacion_termica': u'calor moderado', u'cielo_manana': u'Cielo despejado'}, u'nombre_provincia': u'A Coru\\xf1a', u'2015-07-14 00:00:00': {u'viento_tarde': u'flojo', u'pleamar': u'4:36', u'bajamar': u'4:36', u'temperatua_agua': 14, u'cielo_tarde': u'Cielo despejado', u'temperatura_maxima': 30, u'viento_manana': u'moderado', u'oleaje_manana': u'd\\xe9bil', u'indice_uv': 9, u'oleaje_tarde': u'd\\xe9bil', u'sensacion_termica': u'calor agradable', u'cielo_manana': u'Cielo despejado'}, u'2015-06-30 00:00:00': {u'viento_tarde': u'flojo', u'pleamar': u'3:42', u'bajamar': u'3:42', u'temperatua_agua': 17, u'cielo_tarde': u'Nuboso', u'temperatura_maxima': 27, u'viento_manana': u'flojo', u'oleaje_manana': u'd\\xe9bil', u'indice_uv': 9, u'oleaje_tarde': u'd\\xe9bil', u'sensacion_termica': u'calor agradable', u'cielo_manana': u'Muy nuboso'}, u'id_largo': u'barrana-1501101', u'_id': u'1501101', u'2015-07-01 00:00:00': {u'viento_tarde': u'flojo', u'temperatua_agua': 17, u'cielo_tarde': u'Chubascos', u'temperatura_maxima': 20, u'viento_manana': u'moderado', u'oleaje_manana': u'd\\xe9bil', u'indice_uv': 8, u'oleaje_tarde': u'd\\xe9bil', u'sensacion_termica': u'suave', u'cielo_manana': u'Muy nuboso con lluvia'}, u'longitud': u'42.6394444444'}\n"
     ]
    }
   ],
   "source": [
    "#\n",
    "# Playas nuevas\n",
    "#\n",
    "#Número de playas de la cruz roja\n",
    "resultado_playas = col_playas.find({\"id_costa\": {\"$exists\": False}, \"provincia\": {\"$in\": [\"Cantabria\", \"Castellon\", \"Alicante\", \"Valencia\"]}})\n",
    "print resultado_playas.count()\n",
    "for playa in resultado_playas:\n",
    "    print playa['nombre_playa'], playa['municipio'], playa['provincia']\n",
    "\n",
    "#número de playas de la aemet\n",
    "resultado_costas = col_costas.find({})\n",
    "print resultado_costas.count()\n",
    "for costa in resultado_costas:\n",
    "    print costa\n",
    "    break"
   ]
  },
  {
   "cell_type": "code",
   "execution_count": 29,
   "metadata": {
    "collapsed": false,
    "scrolled": true
   },
   "outputs": [
    {
     "name": "stdout",
     "output_type": "stream",
     "text": [
      "111\n",
      "87\n",
      "Alfàs del Pi, l'raco-de-l-albirAlacant/Alicante -0.0644444444444 38.5752777778\n",
      "Alicante/Alacantsant-joan-san-juanAlacant/Alicante -0.408888888889 38.38\n",
      "Alicante/Alacantel-postiguetAlacant/Alicante -0.477222222222 38.3461111111\n",
      "Alicante/AlacantsaladarAlacant/Alicante -0.518888888889 38.2838888889\n",
      "Alteala-rodaAlacant/Alicante -0.0377777777778 38.6080555556\n",
      "Alteacap-blanchAlacant/Alicante -0.0527777777778 38.5933333333\n",
      "Benidormllevant-playa-de-levanteAlacant/Alicante -0.118055555556 38.5366666667\n",
      "Benidormponent-playa-de-ponienteAlacant/Alicante -0.148611111111 38.5372222222\n",
      "Benissacala-fusteraAlacant/Alicante 0.0877777777778 38.6647222222\n",
      "Calpla-fossaAlacant/Alicante 0.0733333333333 38.6461111111\n",
      "Calpcantal-roigAlacant/Alicante 0.00444444444444 38.6316666667\n",
      "Calparenal-bolAlacant/Alicante -0.0361111111111 38.6097222222\n",
      "Campello, elcarrer-la-marAlacant/Alicante -0.388888888889 38.425\n",
      "Déniales-devessesAlacant/Alicante -0.00722222222222 38.8708333333\n",
      "Déniales-boves-les-marinesAlacant/Alicante 0.0758333333333 38.8580555556\n",
      "Déniamarineta-cassianaAlacant/Alicante 0.125833333333 38.8344444444\n",
      "Elche/Elxarenales-del-solAlacant/Alicante -0.513611111111 38.2411111111\n",
      "Elche/Elxla-marina-les-pesqueres-el-rebolloAlacant/Alicante -0.6525 38.1386111111\n",
      "Finestratfinestrat-la-calaAlacant/Alicante -0.166111111111 38.5258333333\n",
      "Guardamar del Seguracentro-la-roquetaAlacant/Alicante -0.647222222222 38.0752777778\n",
      "Jávea/Xàbiael-arenalAlacant/Alicante 0.190833333333 38.7741666667\n",
      "Jávea/Xàbiala-granadellaAlacant/Alicante 0.197777777778 38.7305555556\n",
      "Orihuelacala-capitanAlacant/Alicante -0.721666666667 37.9219444444\n",
      "Orihuelacala-roigAlacant/Alicante -0.728333333333 37.9033333333\n",
      "Orihuelacampoamor-barranco-rubioAlacant/Alicante -0.751666666667 37.8961111111\n",
      "Santa Polavarador-calas-del-esteAlacant/Alicante -0.534722222222 38.1905555556\n",
      "Santa PolatamaritAlacant/Alicante -0.596944444444 38.1880555556\n",
      "Teuladal-ampollaAlacant/Alicante 0.131388888889 38.6883333333\n",
      "Torreviejala-mataAlacant/Alicante -0.652222222222 38.0261111111\n",
      "Villajoyosa/Vila Joiosa, laparadisAlacant/Alicante -0.256944444444 38.4983333333\n",
      "Pilar de la Horadadaport-el-puertoAlacant/Alicante -0.779166666667 37.8208333333\n",
      "Alcalà de Xivertlas-fuentesCastelló/Castellón 0.287777777778 40.2538888889\n",
      "Alcalà de Xivertel-carregadorCastelló/Castellón 0.275833333333 40.2411111111\n",
      "Almazora/Almassorala-torreCastelló/Castellón -0.00222222222222 39.9238888889\n",
      "Almenaracasa-blancaCastelló/Castellón -0.199444444444 39.6944444444\n",
      "Benicarlóel-morrongoCastelló/Castellón 0.432222222222 40.4133333333\n",
      "Benicasim/Benicàssiml-almadravaCastelló/Castellón 0.0772222222222 40.0533333333\n",
      "Benicasim/BenicàssimheliopolisCastelló/Castellón 0.0455555555556 40.0288888889\n",
      "Borriana/Burrianael-arenalCastelló/Castellón -0.0627777777778 39.8675\n",
      "Castellón de la Plana/Castelló de la Planael-pinarCastelló/Castellón -0.0269444444444 39.9880555556\n",
      "Chilches/Xilxeslas-casas-les-casesCastelló/Castellón -0.165 39.7680555556\n",
      "MoncofamasboCastelló/Castellón -0.129444444444 39.8005555556\n",
      "NulesnulesCastelló/Castellón -0.109722222222 39.8258333333\n",
      "Oropesa del Mar/Orpesamorro-de-gosCastelló/Castellón 0.146944444444 40.0930555556\n",
      "Oropesa del Mar/Orpesala-conchaCastelló/Castellón 0.138888888889 40.1063888889\n",
      "Peníscola/Peñíscolaplaya-norteCastelló/Castellón 0.403055555556 40.3619444444\n",
      "Torreblancanorte-de-torreblancaCastelló/Castellón 0.224722222222 40.195\n",
      "VinaròsfortiCastelló/Castellón 0.478611111111 40.47\n",
      "Alfoz de Lloredoluana-cobrecesCantabria -4.21944444444 43.3955555556\n",
      "Arnuerola-arenaCantabria -3.57555555556 43.5041666667\n",
      "BareyocuberrisCantabria -3.61361111111 43.4980555556\n",
      "Castro-UrdialesorinonCantabria -3.32305555556 43.4025\n",
      "Castro-UrdialesostendeCantabria -3.22416666667 43.3877777778\n",
      "ComillascomillasCantabria -4.28611111111 43.3908333333\n",
      "Laredola-salveCantabria -3.43666666667 43.4194444444\n",
      "Miengocuchia-marzanCantabria -4.02972222222 43.4369444444\n",
      "Miengomogro-usilCantabria -3.97138888889 43.4388888889\n",
      "NojarisCantabria -3.53138888889 43.4930555556\n",
      "PiélagosvaldearenasCantabria -3.98027777778 43.4491666667\n",
      "Ribamontán al Marsomo-loredoCantabria -3.7425 43.4583333333\n",
      "Santa Cruz de Bezanasan-juan-de-la-canalCantabria -3.89194444444 43.4747222222\n",
      "SantandersardineroCantabria -3.78333333333 43.4766666667\n",
      "Santanderla-magdalenaCantabria -3.77527777778 43.4677777778\n",
      "Santoñasan-martinCantabria -3.445 43.4408333333\n",
      "San Vicente de la Barquerael-sable-de-meronCantabria -4.36666666667 43.3938888889\n",
      "Suancesla-conchaCantabria -4.03972222222 43.4361111111\n",
      "ValdáligaoyambreCantabria -4.33194444444 43.3936111111\n",
      "Val de San VicenteamioCantabria -4.48111111111 43.3958333333\n",
      "Alborayael-port-saplayaValència/Valencia -0.32 39.5097222222\n",
      "BellreguardbellreguardValència/Valencia -0.130555555556 38.9675\n",
      "Canet d'En Berenguerraco-de-marValència/Valencia -0.201111111111 39.6847222222\n",
      "Cullerael-dosselValència/Valencia -0.227777777778 39.1986111111\n",
      "Cullerael-racoValència/Valencia -0.221388888889 39.1827777778\n",
      "Cullerasant-antoniValència/Valencia -0.239444444444 39.1602777778\n",
      "DaimúsdaimusValència/Valencia -0.141111111111 38.9786111111\n",
      "Gandianorte-de-gandiaValència/Valencia -0.155277777778 39.0130555556\n",
      "XeracoxeracoValència/Valencia -0.193333333333 39.06\n",
      "Olivapau-piValència/Valencia -0.0902777777778 38.93\n",
      "Olival-aigua-blancaValència/Valencia -0.08 38.9211111111\n",
      "PilespilesValència/Valencia -0.114444444444 38.9519444444\n",
      "Pobla de Farnals, lala-pobla-de-farnalsValència/Valencia -0.288333333333 39.5577777778\n",
      "Sagunto/Saguntcorint-malvarrosaValència/Valencia -0.193611111111 39.7091666667\n",
      "Sagunto/Saguntport-de-sagunt-saguntValència/Valencia -0.208888888889 39.6586111111\n",
      "Suecamareny-blauValència/Valencia -0.245277777778 39.2291666667\n",
      "Tavernes de la ValldignatavernesValència/Valencia -0.217222222222 39.0972222222\n",
      "Valenciaplaya-de-levante-malvarrosaValència/Valencia -0.321944444444 39.4722222222\n",
      "Valenciala-devesaValència/Valencia -0.305277777778 39.3394444444\n"
     ]
    }
   ],
   "source": [
    "#\n",
    "# Costas no CRUZROJA\n",
    "#\n",
    "#Número de playas de la cruz roja\n",
    "resultado_playas = col_playas.find({\"id_costa\": {\"$exists\": True}, \"provincia\": {\"$in\": [\"Cantabria\", \"Castellon\", \"Alicante\", \"Valencia\"]}})\n",
    "ids_costa = []\n",
    "for playa in resultado_playas:\n",
    "    ids_costa.append(playa['id_costa'])\n",
    "\n",
    "#número de playas de la aemet\n",
    "resultado_costas = col_costas.find({\"_id\": {\"$nin\":ids_costa}, \"id_provincia\": {\"$in\": [\"03\", \"12\", \"46\", \"39\"]}})\n",
    "for costa in resultado_costas:\n",
    "    print costa['nombre_localidad'] + costa['nombre_playa'] + costa['nombre_provincia'], costa['latitud'], costa['longitud']"
   ]
  },
  {
   "cell_type": "code",
   "execution_count": null,
   "metadata": {
    "collapsed": true
   },
   "outputs": [],
   "source": []
  }
 ],
 "metadata": {
  "kernelspec": {
   "display_name": "Python 2",
   "language": "python",
   "name": "python2"
  },
  "language_info": {
   "codemirror_mode": {
    "name": "ipython",
    "version": 2
   },
   "file_extension": ".py",
   "mimetype": "text/x-python",
   "name": "python",
   "nbconvert_exporter": "python",
   "pygments_lexer": "ipython2",
   "version": "2.7.6"
  }
 },
 "nbformat": 4,
 "nbformat_minor": 0
}
